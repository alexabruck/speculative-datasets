{
  "nbformat": 4,
  "nbformat_minor": 0,
  "metadata": {
    "colab": {
      "name": "speculative-datasets-forests-on-same-latitude.ipynb",
      "provenance": [],
      "collapsed_sections": [],
      "authorship_tag": "ABX9TyNfWV3pDux7TCI+NmPgmPbB",
      "include_colab_link": true
    },
    "kernelspec": {
      "name": "python3",
      "display_name": "Python 3"
    },
    "language_info": {
      "name": "python"
    }
  },
  "cells": [
    {
      "cell_type": "markdown",
      "metadata": {
        "id": "view-in-github",
        "colab_type": "text"
      },
      "source": [
        "<a href=\"https://colab.research.google.com/github/alexabruck/speculative-datasets/blob/master/Forests_same_latitude.ipynb\" target=\"_parent\"><img src=\"https://colab.research.google.com/assets/colab-badge.svg\" alt=\"Open In Colab\"/></a>"
      ]
    },
    {
      "cell_type": "markdown",
      "metadata": {
        "id": "3QB2TSe_RObI"
      },
      "source": [
        "# Images of forests on the same latitude as Leipzig"
      ]
    },
    {
      "cell_type": "code",
      "metadata": {
        "id": "PTn9oj6jMmiW",
        "colab": {
          "base_uri": "https://localhost:8080/"
        },
        "outputId": "6f852af6-d63d-48e6-9fd3-0410fa12bfcc"
      },
      "source": [
        "!pip install SPARQLWrapper"
      ],
      "execution_count": 2,
      "outputs": [
        {
          "output_type": "stream",
          "name": "stdout",
          "text": [
            "Collecting SPARQLWrapper\n",
            "  Downloading SPARQLWrapper-1.8.5-py3-none-any.whl (26 kB)\n",
            "Collecting rdflib>=4.0\n",
            "  Downloading rdflib-6.0.2-py3-none-any.whl (407 kB)\n",
            "\u001b[K     |████████████████████████████████| 407 kB 11.6 MB/s \n",
            "\u001b[?25hRequirement already satisfied: setuptools in /usr/local/lib/python3.7/dist-packages (from rdflib>=4.0->SPARQLWrapper) (57.4.0)\n",
            "Requirement already satisfied: pyparsing in /usr/local/lib/python3.7/dist-packages (from rdflib>=4.0->SPARQLWrapper) (2.4.7)\n",
            "Collecting isodate\n",
            "  Downloading isodate-0.6.0-py2.py3-none-any.whl (45 kB)\n",
            "\u001b[K     |████████████████████████████████| 45 kB 2.7 MB/s \n",
            "\u001b[?25hRequirement already satisfied: six in /usr/local/lib/python3.7/dist-packages (from isodate->rdflib>=4.0->SPARQLWrapper) (1.15.0)\n",
            "Installing collected packages: isodate, rdflib, SPARQLWrapper\n",
            "Successfully installed SPARQLWrapper-1.8.5 isodate-0.6.0 rdflib-6.0.2\n"
          ]
        }
      ]
    },
    {
      "cell_type": "code",
      "metadata": {
        "colab": {
          "base_uri": "https://localhost:8080/"
        },
        "id": "5DFBHRhTKrOe",
        "outputId": "0ae2b44e-f209-4601-b1e9-944c0c678da5"
      },
      "source": [
        "from SPARQLWrapper import SPARQLWrapper, JSON\n",
        "\n",
        "ENDPOINT_URL = \"https://query.wikidata.org/sparql\"\n",
        "\n",
        "def get(query):\n",
        "    user_agent = \"Speculative Datasets (https://github.com/alexabruck/speculative-datasets)\"\n",
        "    # TODO adjust user agent; see https://w.wiki/CX6\n",
        "    sparql = SPARQLWrapper(ENDPOINT_URL, agent=user_agent)\n",
        "    sparql.setQuery(query)\n",
        "    sparql.setReturnFormat(JSON)\n",
        "    return sparql.query().convert()\n",
        "\n",
        "query = \"\"\"\n",
        "SELECT ?item ?itemLabel ?locLatRef ?locLat ?locLongRef ?locLong ?pic\n",
        "WHERE \n",
        "{ \n",
        "  ?item wdt:P31 wd:Q4421. #item is a forest\n",
        "  \n",
        "  ?item p:P625 ?locStatement.\n",
        "  ?locStatement psv:P625 ?loc.\n",
        "  ?loc wikibase:geoLongitude ?locLong.\n",
        "  ?loc wikibase:geoLatitude ?locLat.\n",
        "  \n",
        "  wd:Q2079 p:P625 ?locRefStatement. #Ref = City of Leipzig, Germany\n",
        "  ?locRefStatement psv:P625 ?locRef.\n",
        "  ?locRef wikibase:geoLongitude ?locLongRef.\n",
        "  ?locRef wikibase:geoLatitude ?locLatRef.\n",
        "  \n",
        "  ?item wdt:P18 ?image_. #has pic\n",
        "  BIND(REPLACE(wikibase:decodeUri(STR(?image_)), \"http://commons.wikimedia.org/wiki/Special:FilePath/\", \"\") AS ?imageFileName_)\n",
        "  BIND(REPLACE(?imageFileName_, \" \", \"_\") AS ?imageFileNameSafe_)\n",
        "  BIND(MD5(?imageFileNameSafe_) AS ?imageFileNameHash_)\n",
        "  BIND(CONCAT(\"https://upload.wikimedia.org/wikipedia/commons/thumb/\", SUBSTR(?imageFileNameHash_, 1 , 1 ), \"/\", SUBSTR(?imageFileNameHash_, 1 , 2 ), \"/\", ?imageFileNameSafe_, \"/600px-\", ?imageFileNameSafe_) AS ?pic)\n",
        "  \n",
        "  FILTER(?locLat < ?locLatRef + 0.5 && ?locLat > ?locLatRef - 0.5 )\n",
        "  SERVICE wikibase:label { bd:serviceParam wikibase:language \"[AUTO_LANGUAGE],en\". } # Helps get the label in your language, if not, then en language\n",
        "}\"\"\"\n",
        "\n",
        "\n",
        "response = get(query)\n",
        "items = response[\"results\"][\"bindings\"]\n",
        "pics = [item['pic']['value'] for item in items]\n",
        "print(len(pics))"
      ],
      "execution_count": 8,
      "outputs": [
        {
          "output_type": "stream",
          "name": "stdout",
          "text": [
            "144\n"
          ]
        }
      ]
    },
    {
      "cell_type": "markdown",
      "metadata": {
        "id": "PAxXeie4PFOI"
      },
      "source": [
        "## Download the pics"
      ]
    },
    {
      "cell_type": "code",
      "metadata": {
        "id": "-MvFOLDxAqx0"
      },
      "source": [
        "!rm -rd pics"
      ],
      "execution_count": 9,
      "outputs": []
    },
    {
      "cell_type": "code",
      "metadata": {
        "id": "dXOAb4tEM3R1"
      },
      "source": [
        "!mkdir pics\n",
        "\n",
        "for pic in pics:\n",
        "  !wget $pic -P pics"
      ],
      "execution_count": null,
      "outputs": []
    },
    {
      "cell_type": "code",
      "metadata": {
        "id": "EHyUVfcKqU1v"
      },
      "source": [
        "!zip -r results.zip pics\n",
        "from google.colab import files\n",
        "files.download(\"results.zip\")"
      ],
      "execution_count": null,
      "outputs": []
    }
  ]
}
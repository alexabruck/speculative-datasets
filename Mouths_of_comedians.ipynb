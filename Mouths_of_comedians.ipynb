{
  "nbformat": 4,
  "nbformat_minor": 0,
  "metadata": {
    "colab": {
      "name": "speculative-datasets-mouths-of-comedians.ipynb",
      "provenance": [],
      "collapsed_sections": [],
      "authorship_tag": "ABX9TyOeepErSi+cikrGHMvE+y3f",
      "include_colab_link": true
    },
    "kernelspec": {
      "name": "python3",
      "display_name": "Python 3"
    },
    "language_info": {
      "name": "python"
    }
  },
  "cells": [
    {
      "cell_type": "markdown",
      "metadata": {
        "id": "view-in-github",
        "colab_type": "text"
      },
      "source": [
        "<a href=\"https://colab.research.google.com/github/alexabruck/speculative-datasets/blob/master/Mouths_of_comedians.ipynb\" target=\"_parent\"><img src=\"https://colab.research.google.com/assets/colab-badge.svg\" alt=\"Open In Colab\"/></a>"
      ]
    },
    {
      "cell_type": "code",
      "metadata": {
        "id": "PTn9oj6jMmiW"
      },
      "source": [
        "!pip install SPARQLWrapper"
      ],
      "execution_count": null,
      "outputs": []
    },
    {
      "cell_type": "code",
      "metadata": {
        "id": "5DFBHRhTKrOe"
      },
      "source": [
        "from SPARQLWrapper import SPARQLWrapper, JSON\n",
        "\n",
        "ENDPOINT_URL = \"https://query.wikidata.org/sparql\"\n",
        "\n",
        "def get(query):\n",
        "    user_agent = \"Speculative Datasets (https://github.com/alexabruck/speculative-datasets)\"\n",
        "    # TODO adjust user agent; see https://w.wiki/CX6\n",
        "    sparql = SPARQLWrapper(ENDPOINT_URL, agent=user_agent)\n",
        "    sparql.setQuery(query)\n",
        "    sparql.setReturnFormat(JSON)\n",
        "    return sparql.query().convert()\n",
        "\n",
        "query = \"\"\"select distinct ?item ?itemLabel ?itemDescription ?pic where {\n",
        "    ?item wdt:P31 wd:Q5;  # Any instance of a human.\n",
        "          wdt:P106 wd:Q245068; #comedian\n",
        "          wdt:P18 ?image_. #has pic\n",
        "          BIND(REPLACE(wikibase:decodeUri(STR(?image_)), \"http://commons.wikimedia.org/wiki/Special:FilePath/\", \"\") AS ?imageFileName_)\n",
        "          BIND(REPLACE(?imageFileName_, \" \", \"_\") AS ?imageFileNameSafe_)\n",
        "          BIND(MD5(?imageFileNameSafe_) AS ?imageFileNameHash_)\n",
        "          BIND(CONCAT(\"https://upload.wikimedia.org/wikipedia/commons/thumb/\", SUBSTR(?imageFileNameHash_, 1 , 1 ), \"/\", SUBSTR(?imageFileNameHash_, 1 , 2 ), \"/\", ?imageFileNameSafe_, \"/300px-\", ?imageFileNameSafe_) AS ?pic)\n",
        "    SERVICE wikibase:label { bd:serviceParam wikibase:language \"en,nl\" }\n",
        "}\"\"\"\n",
        "\n",
        "response = get(query)\n",
        "items = response[\"results\"][\"bindings\"]\n",
        "pics = [item['pic']['value'] for item in items]\n",
        "print(pics)"
      ],
      "execution_count": null,
      "outputs": []
    },
    {
      "cell_type": "markdown",
      "metadata": {
        "id": "PAxXeie4PFOI"
      },
      "source": [
        "## Download the pics"
      ]
    },
    {
      "cell_type": "code",
      "metadata": {
        "id": "dXOAb4tEM3R1"
      },
      "source": [
        "!mkdir pics\n",
        "\n",
        "for pic in pics:\n",
        "  !wget $pic -P pics"
      ],
      "execution_count": null,
      "outputs": []
    },
    {
      "cell_type": "markdown",
      "metadata": {
        "id": "PY6BFMS8U4HM"
      },
      "source": [
        "## Import Computer Vision libs"
      ]
    },
    {
      "cell_type": "code",
      "metadata": {
        "id": "vxrkIQNoU9Gu"
      },
      "source": [
        "!pip install mediapipe\n",
        "import cv2\n",
        "import mediapipe as mp\n",
        "import os"
      ],
      "execution_count": null,
      "outputs": []
    },
    {
      "cell_type": "code",
      "metadata": {
        "id": "ENu-77ZnkYt7"
      },
      "source": [
        "rm -rd results"
      ],
      "execution_count": null,
      "outputs": []
    },
    {
      "cell_type": "code",
      "metadata": {
        "id": "mFhabRJQWU8s"
      },
      "source": [
        "INPUT_FOLDER = 'pics/'\n",
        "OUTPUT_FOLDER = 'results/'\n",
        "\n",
        "!mkdir $OUTPUT_FOLDER\n",
        "\n",
        "mpFaceMesh = mp.solutions.face_mesh\n",
        "faceMesh = mpFaceMesh.FaceMesh()\n",
        "\n",
        "#Landmark keypoints according to https://github.com/tensorflow/tfjs-models/blob/master/facemesh/mesh_map.jpg\n",
        "LANDMARK_MOUTH_LEFT = 57\n",
        "LANDMARK_MOUTH_RIGHT = 287\n",
        "LANDMARK_MOUTH_UPPER = 164\n",
        "LANDMARK_MOUTH_LOWER = 18\n",
        "\n",
        "def process_image(filename):\n",
        "  img = cv2.imread(INPUT_FOLDER + filename)\n",
        "  try:\n",
        "    imgRGB = cv2.cvtColor(img, cv2.COLOR_BGR2RGB)\n",
        "    results = faceMesh.process(imgRGB)\n",
        "    landmarks = results.multi_face_landmarks[0].landmark\n",
        "  except:\n",
        "    return\n",
        "  mouth_left, mouth_right  = landmarks[LANDMARK_MOUTH_LEFT], landmarks[LANDMARK_MOUTH_RIGHT]\n",
        "  mouth_top, mouth_bottom  = landmarks[LANDMARK_MOUTH_UPPER], landmarks[LANDMARK_MOUTH_LOWER]\n",
        "\n",
        "  #NB: Landmarks are between 0 and 1, now calculating the cutout rectangle in real pixel values\n",
        "  img_h, img_w, _ = img.shape\n",
        "\n",
        "  rect_top_left = (int(mouth_left.x * img_w), int(mouth_top.y * img_h))\n",
        "  rect_top_right = (int(mouth_right.x * img_w), int(mouth_top.y * img_h))\n",
        "  rect_bottom_left = (int(mouth_left.x * img_w), int(mouth_bottom.y * img_h))\n",
        "  rect_bottom_right = (int(mouth_right.x * img_w), int(mouth_bottom.y * img_h))\n",
        "\n",
        "  cropped_image = img[rect_top_left[1]:rect_bottom_left[1], rect_top_left[0]:rect_top_right[0]]\n",
        "  cv2.imwrite(OUTPUT_FOLDER + filename + \"_mouth\"+  \".jpg\", cropped_image)\n",
        "\n",
        "#For all images in the folder\n",
        "for filename in os.listdir(INPUT_FOLDER):\n",
        "  print(filename)\n",
        "  process_image(filename)\n",
        "\n",
        "\n"
      ],
      "execution_count": null,
      "outputs": []
    },
    {
      "cell_type": "code",
      "metadata": {
        "id": "EHyUVfcKqU1v"
      },
      "source": [
        "!zip -r results.zip results\n",
        "from google.colab import files\n",
        "files.download(\"results.zip\")"
      ],
      "execution_count": null,
      "outputs": []
    }
  ]
}